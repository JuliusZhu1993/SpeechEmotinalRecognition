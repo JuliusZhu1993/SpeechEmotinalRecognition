{
 "cells": [
  {
   "cell_type": "markdown",
   "metadata": {},
   "source": [
    "基于神经网络的语音情感识别代码\n"
   ]
  },
  {
   "cell_type": "code",
   "execution_count": 1,
   "metadata": {},
   "outputs": [
    {
     "name": "stdout",
     "output_type": "stream",
     "text": [
      "curses is not supported on this machine (please install/reinstall curses for an optimal experience)\n"
     ]
    }
   ],
   "source": [
    "import numpy as np\n",
    "import pandas as pd\n",
    "import tensorflow as tf\n",
    "import tflearn\n",
    "import scipy.io as sio\n",
    "#import pickle\n",
    "import matplotlib.pyplot as plt\n",
    "#import numpy as np\n",
    "#import matplotlib.mlab as mlab "
   ]
  },
  {
   "cell_type": "markdown",
   "metadata": {},
   "source": [
    "导入输入数据\n",
    "通过pd.read_csv读出的是dataframe格式"
   ]
  },
  {
   "cell_type": "code",
   "execution_count": 2,
   "metadata": {
    "collapsed": true
   },
   "outputs": [],
   "source": [
    "sample = pd.read_csv('pcasample1080-95.txt', header = None )"
   ]
  },
  {
   "cell_type": "code",
   "execution_count": 12,
   "metadata": {},
   "outputs": [
    {
     "data": {
      "text/html": [
       "<div>\n",
       "<style>\n",
       "    .dataframe thead tr:only-child th {\n",
       "        text-align: right;\n",
       "    }\n",
       "\n",
       "    .dataframe thead th {\n",
       "        text-align: left;\n",
       "    }\n",
       "\n",
       "    .dataframe tbody tr th {\n",
       "        vertical-align: top;\n",
       "    }\n",
       "</style>\n",
       "<table border=\"1\" class=\"dataframe\">\n",
       "  <thead>\n",
       "    <tr style=\"text-align: right;\">\n",
       "      <th></th>\n",
       "      <th>0</th>\n",
       "    </tr>\n",
       "  </thead>\n",
       "  <tbody>\n",
       "    <tr>\n",
       "      <th>0</th>\n",
       "      <td>-0.338708092\\t1.828532911\\t1.309321057\\t0.1748...</td>\n",
       "    </tr>\n",
       "    <tr>\n",
       "      <th>1</th>\n",
       "      <td>1.648187427\\t0.1857881\\t-0.836151066\\t1.268811...</td>\n",
       "    </tr>\n",
       "    <tr>\n",
       "      <th>2</th>\n",
       "      <td>-0.130687255\\t0.550807496\\t1.863070511\\t0.8477...</td>\n",
       "    </tr>\n",
       "    <tr>\n",
       "      <th>3</th>\n",
       "      <td>1.821510998\\t0.938574551\\t-0.035359077\\t0.4838...</td>\n",
       "    </tr>\n",
       "  </tbody>\n",
       "</table>\n",
       "</div>"
      ],
      "text/plain": [
       "                                                   0\n",
       "0  -0.338708092\\t1.828532911\\t1.309321057\\t0.1748...\n",
       "1  1.648187427\\t0.1857881\\t-0.836151066\\t1.268811...\n",
       "2  -0.130687255\\t0.550807496\\t1.863070511\\t0.8477...\n",
       "3  1.821510998\\t0.938574551\\t-0.035359077\\t0.4838..."
      ]
     },
     "execution_count": 12,
     "metadata": {},
     "output_type": "execute_result"
    }
   ],
   "source": [
    "sample[:4]"
   ]
  },
  {
   "cell_type": "code",
   "execution_count": 3,
   "metadata": {
    "collapsed": true
   },
   "outputs": [],
   "source": [
    "data = sio.loadmat('pythonsample1080.mat')"
   ]
  },
  {
   "cell_type": "code",
   "execution_count": 4,
   "metadata": {
    "collapsed": true
   },
   "outputs": [],
   "source": [
    "#未经过PCA的特征\n",
    "angry = data['angry']  # 5\n",
    "happy = data['happy']  # 1\n",
    "sad = data['sad'] # 4\n",
    "neutral = data['neutral'] # 0\n",
    "surprise = data['surprise'] # 2\n",
    "fear = data['fear'] # 3\n",
    "part = data['part']\n",
    "label = data['pythonlabel']\n",
    "train_x = np.concatenate((angry,happy,sad,neutral,surprise,fear),axis=0)\n",
    "test_x = part"
   ]
  },
  {
   "cell_type": "code",
   "execution_count": 4,
   "metadata": {
    "collapsed": true
   },
   "outputs": [],
   "source": [
    "#经过特征降维的特征矩阵，与上代码块并立\n",
    "angry = data['angrypca']  # 5\n",
    "happy = data['happypca']  # 1\n",
    "sad = data['sadpca'] # 4\n",
    "neutral = data['neutralpca'] # 0\n",
    "surprise = data['surprisepca'] # 2\n",
    "fear = data['fearpca'] # 3\n",
    "part = data['partpca']\n",
    "label = data['pythonlabel']\n",
    "train_x = np.concatenate((angry,happy,sad,neutral,surprise,fear),axis=0)\n",
    "test_x = part"
   ]
  },
  {
   "cell_type": "code",
   "execution_count": 70,
   "metadata": {},
   "outputs": [
    {
     "data": {
      "text/plain": [
       "(1200, 1)"
      ]
     },
     "execution_count": 70,
     "metadata": {},
     "output_type": "execute_result"
    }
   ],
   "source": [
    "happy[0]\n",
    "label.shape"
   ]
  },
  {
   "cell_type": "markdown",
   "metadata": {},
   "source": [
    "对标签进行独热编码处理"
   ]
  },
  {
   "cell_type": "code",
   "execution_count": 5,
   "metadata": {
    "collapsed": true
   },
   "outputs": [],
   "source": [
    "def one_hot_encode(x):\n",
    "\n",
    "    '''x : 样本的标签值\n",
    "       返回编码的矩阵'''\n",
    "    #创建编码器\n",
    "    encode = np.zeros((len(x), 6))\n",
    "    for n in range(len(x)):\n",
    "        encode[n][x[n]] = 1.\n",
    "    \n",
    "    return encode\n",
    "\n",
    "label_one_hot = one_hot_encode(label)"
   ]
  },
  {
   "cell_type": "code",
   "execution_count": 6,
   "metadata": {},
   "outputs": [
    {
     "name": "stdout",
     "output_type": "stream",
     "text": [
      "[5]\n"
     ]
    },
    {
     "data": {
      "text/plain": [
       "array([ 0.,  0.,  0.,  0.,  0.,  1.])"
      ]
     },
     "execution_count": 6,
     "metadata": {},
     "output_type": "execute_result"
    }
   ],
   "source": [
    "label_one_hot.shape\n",
    "print(label[0])\n",
    "label_one_hot[0]"
   ]
  },
  {
   "cell_type": "code",
   "execution_count": 7,
   "metadata": {
    "collapsed": true
   },
   "outputs": [],
   "source": [
    "train_y, test_y = label_one_hot[0:1080, :], label_one_hot[1080:, :]"
   ]
  },
  {
   "cell_type": "code",
   "execution_count": 8,
   "metadata": {},
   "outputs": [
    {
     "data": {
      "text/plain": [
       "(120, 6)"
      ]
     },
     "execution_count": 8,
     "metadata": {},
     "output_type": "execute_result"
    }
   ],
   "source": [
    "train_y.shape\n",
    "test_y.shape"
   ]
  },
  {
   "cell_type": "markdown",
   "metadata": {},
   "source": [
    "构建神经网络"
   ]
  },
  {
   "cell_type": "code",
   "execution_count": 12,
   "metadata": {},
   "outputs": [],
   "source": [
    "def build_model():\n",
    "    # This resets all parameters and variables, leave this here\n",
    "    tf.reset_default_graph()\n",
    "    \n",
    "    # Inputs\n",
    "    net = tflearn.input_data([None, train_x.shape[1]]) \n",
    "\n",
    "    # Hidden layer(s)\n",
    "    net = tflearn.fully_connected(net, 600, activation='ReLU')\n",
    "    net = tflearn.fully_connected(net, 32, activation='ReLU')\n",
    "    #net = tflearn.fully_connected(net, 50, activation='ReLU')\n",
    "    \n",
    "    # Output layer and training model\n",
    "    net = tflearn.fully_connected(net, 6, activation='softmax')\n",
    "    net = tflearn.regression(net, optimizer='sgd', learning_rate=0.001, loss='categorical_crossentropy')\n",
    "    \n",
    "    model = tflearn.DNN(net, tensorboard_verbose=1, tensorboard_dir=\"logs\")\n",
    "    return model\n"
   ]
  },
  {
   "cell_type": "code",
   "execution_count": 13,
   "metadata": {},
   "outputs": [],
   "source": [
    "# Build the model\n",
    "model = build_model()  "
   ]
  },
  {
   "cell_type": "code",
   "execution_count": 14,
   "metadata": {},
   "outputs": [
    {
     "name": "stdout",
     "output_type": "stream",
     "text": [
      "Training Step: 146999  | total loss: \u001b[1m\u001b[32m0.02074\u001b[0m\u001b[0m | time: 1.288s\n",
      "| SGD | epoch: 3000 | loss: 0.02074 - acc: 1.0000 -- iter: 960/972\n",
      "Training Step: 147000  | total loss: \u001b[1m\u001b[32m0.01986\u001b[0m\u001b[0m | time: 2.309s\n",
      "| SGD | epoch: 3000 | loss: 0.01986 - acc: 1.0000 | val_loss: 0.79164 - val_acc: 0.7500 -- iter: 972/972\n",
      "--\n"
     ]
    }
   ],
   "source": [
    "# Training \n",
    "model.fit(train_x, train_y, validation_set=0.1, show_metric=True, batch_size=20, n_epoch=3000)\n"
   ]
  },
  {
   "cell_type": "code",
   "execution_count": 16,
   "metadata": {},
   "outputs": [
    {
     "ename": "NameError",
     "evalue": "name 'main' is not defined",
     "output_type": "error",
     "traceback": [
      "\u001b[1;31m---------------------------------------------------------------------------\u001b[0m",
      "\u001b[1;31mNameError\u001b[0m                                 Traceback (most recent call last)",
      "\u001b[1;32m<ipython-input-16-7b362ab7d21c>\u001b[0m in \u001b[0;36m<module>\u001b[1;34m()\u001b[0m\n\u001b[0;32m     24\u001b[0m       help='Summaries log directory')\n\u001b[0;32m     25\u001b[0m   \u001b[0mFLAGS\u001b[0m\u001b[1;33m,\u001b[0m \u001b[0munparsed\u001b[0m \u001b[1;33m=\u001b[0m \u001b[0mparser\u001b[0m\u001b[1;33m.\u001b[0m\u001b[0mparse_known_args\u001b[0m\u001b[1;33m(\u001b[0m\u001b[1;33m)\u001b[0m\u001b[1;33m\u001b[0m\u001b[0m\n\u001b[1;32m---> 26\u001b[1;33m   \u001b[0mtf\u001b[0m\u001b[1;33m.\u001b[0m\u001b[0mapp\u001b[0m\u001b[1;33m.\u001b[0m\u001b[0mrun\u001b[0m\u001b[1;33m(\u001b[0m\u001b[0mmain\u001b[0m\u001b[1;33m=\u001b[0m\u001b[0mmain\u001b[0m\u001b[1;33m,\u001b[0m \u001b[0margv\u001b[0m\u001b[1;33m=\u001b[0m\u001b[1;33m[\u001b[0m\u001b[0msys\u001b[0m\u001b[1;33m.\u001b[0m\u001b[0margv\u001b[0m\u001b[1;33m[\u001b[0m\u001b[1;36m0\u001b[0m\u001b[1;33m]\u001b[0m\u001b[1;33m]\u001b[0m \u001b[1;33m+\u001b[0m \u001b[0munparsed\u001b[0m\u001b[1;33m)\u001b[0m\u001b[1;33m\u001b[0m\u001b[0m\n\u001b[0m",
      "\u001b[1;31mNameError\u001b[0m: name 'main' is not defined"
     ]
    }
   ],
   "source": [
    "$ tensorboard --logdir='/tmp/tflearn_logs'"
   ]
  },
  {
   "cell_type": "code",
   "execution_count": 21,
   "metadata": {
    "scrolled": true
   },
   "outputs": [
    {
     "ename": "SyntaxError",
     "evalue": "invalid syntax (<ipython-input-21-6dfdb5a2acef>, line 1)",
     "output_type": "error",
     "traceback": [
      "\u001b[1;36m  File \u001b[1;32m\"<ipython-input-21-6dfdb5a2acef>\"\u001b[1;36m, line \u001b[1;32m1\u001b[0m\n\u001b[1;33m    $ tensorboard --logdir='/tmp/tflearn_logs'\u001b[0m\n\u001b[1;37m    ^\u001b[0m\n\u001b[1;31mSyntaxError\u001b[0m\u001b[1;31m:\u001b[0m invalid syntax\n"
     ]
    }
   ],
   "source": [
    "$ tensorboard --logdir= /logs"
   ]
  },
  {
   "cell_type": "code",
   "execution_count": null,
   "metadata": {
    "collapsed": true
   },
   "outputs": [],
   "source": []
  },
  {
   "cell_type": "code",
   "execution_count": null,
   "metadata": {
    "collapsed": true
   },
   "outputs": [],
   "source": []
  },
  {
   "cell_type": "code",
   "execution_count": 15,
   "metadata": {},
   "outputs": [
    {
     "name": "stdout",
     "output_type": "stream",
     "text": [
      "The history saving thread hit an unexpected error (OperationalError('database or disk is full',)).History will not be written to the database.\n",
      "Test accuracy:  0.741666666667\n"
     ]
    }
   ],
   "source": [
    "# Find the indices of the most confident prediction for each item. That tells us the predicted digit for that sample.\n",
    "predictions = np.array(model.predict(test_x)).argmax(axis=1)\n",
    "\n",
    "# Calculate the accuracy, which is the percentage of times the predicated labels matched the actual labels\n",
    "actual = test_y.argmax(axis=1)\n",
    "test_accuracy = np.mean(predictions == actual, axis=0)\n",
    "\n",
    "# Print out the result\n",
    "print(\"Test accuracy: \", test_accuracy)"
   ]
  },
  {
   "cell_type": "code",
   "execution_count": 35,
   "metadata": {
    "collapsed": true
   },
   "outputs": [],
   "source": [
    "prediction = model.predict(test_x)"
   ]
  },
  {
   "cell_type": "code",
   "execution_count": 44,
   "metadata": {},
   "outputs": [
    {
     "data": {
      "text/plain": [
       "array([ 0.,  0.,  0.,  0.,  0.,  1.])"
      ]
     },
     "execution_count": 44,
     "metadata": {},
     "output_type": "execute_result"
    }
   ],
   "source": [
    "test_y[5]"
   ]
  },
  {
   "cell_type": "markdown",
   "metadata": {},
   "source": [
    "显示测试样本结果"
   ]
  },
  {
   "cell_type": "code",
   "execution_count": 52,
   "metadata": {
    "collapsed": true
   },
   "outputs": [],
   "source": [
    " def display_result(pred_values, actual):\n",
    "        pred_names = ['neutral', 'happy', 'surprised', 'fear', 'sad', 'angry']\n",
    "        \n",
    "        fig, axies = plt.subplots(nrows=1, ncols=1)\n",
    "        ind = actual.argmax()\n",
    "        fig.suptitle(pred_names[ind], fontsize=20, y=1.1)\n",
    "        fig.tight_layout()\n",
    "        n_predictions = 6\n",
    "        margin = 0.05\n",
    "        ind = np.arange(n_predictions)\n",
    "        width = (1. - 2. * margin)/1.5\n",
    "        \n",
    "        a = axies.barh(ind + margin, pred_values[::-1], width)\n",
    "        axies.set_yticks(ind + margin)\n",
    "        axies.set_yticklabels(pred_names[::-1])\n",
    "        axies.set_xticks([0, 0.2, 0.4, 0.6, 0.8, 1.0])\n",
    "        for rect in a:\n",
    "            width = rect.get_width()\n",
    "            plt.text(1.03*width, rect.get_y()+rect.get_height()/2.-0.1, '%.4f' % float(width))\n",
    "        plt.show()        "
   ]
  },
  {
   "cell_type": "code",
   "execution_count": 53,
   "metadata": {},
   "outputs": [
    {
     "data": {
      "image/png": "[encoded data removed]",
      "text/plain": [
       "<matplotlib.figure.Figure at 0x11c8113e898>"
      ]
     },
     "metadata": {},
     "output_type": "display_data"
    }
   ],
   "source": [
    "display_result(prediction[5], test_y[5])"
   ]
  },
  {
   "cell_type": "markdown",
   "metadata": {},
   "source": [
    "模型名：model       1\n",
    "学习率：  0.001   0.001   0.001   0.001   0.001\n",
    "迭代次数：2000    2000    1000    1000    1000\n",
    "第一层：  300     600     900     1200   1200     \n",
    "第二层：  32      32      32     32     300\n",
    "样本准确率： 0.7091 0.6955  0.6038   0.5405  0.6998\n",
    "val准确率：  0.3704  0.4259   0.4444  0.4074   0.3796\n",
    "测试准确率： 0.3916  0.4   0.408   0.3833  0.3416"
   ]
  },
  {
   "cell_type": "code",
   "execution_count": null,
   "metadata": {
    "collapsed": true
   },
   "outputs": [],
   "source": [
    "模型名：model       2\n",
    "学习率：    0.001   0.001   0.001\n",
    "迭代次数：  2000    1000    1000\n",
    "第一层：     900    900     900     \n",
    "第二层：     32     100     200\n",
    "样本准确率  0.6914   0.6863  0.66  \n",
    "val准确率： 0.4444  0.4907  0.4907\n",
    "测试准确率:  0.408  0.4167  0.35"
   ]
  },
  {
   "cell_type": "code",
   "execution_count": null,
   "metadata": {
    "collapsed": true
   },
   "outputs": [],
   "source": [
    "模型名：model       3\n",
    "学习率：    0.001   0.001   0.001    0.001\n",
    "迭代次数：  2000    3000    3000     2000\n",
    "第一层：     900    900      900     900   \n",
    "第二层：     100     100     50      32\n",
    "样本准确率   0.7850  0.7888  0.7715  0.6914\n",
    "val准确率：  0.4167  0.4352  0.3796  0.3981\n",
    "测试准确率:  0.433   0.4167  0.4583  0.45"
   ]
  },
  {
   "cell_type": "code",
   "execution_count": null,
   "metadata": {
    "collapsed": true
   },
   "outputs": [],
   "source": [
    "经过特征降维的训练结果\n",
    "模型名：model       4\n",
    "学习率：    0.001   0.001   0.001      0.001      0.001\n",
    "迭代次数：  2000    2000    2000       2000       2000\n",
    "第一层：     300    600     900        600        600\n",
    "第二层：     32     32      32         50         100\n",
    "样本准确率  0.9594  0.9921  0.9890     0.9897     0.9940\n",
    "val准确率： 0.7315  0.7407  0.7315     0.7963     0.7315\n",
    "测试准确率: 0.725   0.75    0.73       0.7333     0.7483"
   ]
  }
 ],
 "metadata": {
  "kernelspec": {
   "display_name": "Python 3",
   "language": "python",
   "name": "python3"
  },
  "language_info": {
   "codemirror_mode": {
    "name": "ipython",
    "version": 3
   },
   "file_extension": ".py",
   "mimetype": "text/x-python",
   "name": "python",
   "nbconvert_exporter": "python",
   "pygments_lexer": "ipython3",
   "version": "3.6.2"
  }
 },
 "nbformat": 4,
 "nbformat_minor": 2
}
